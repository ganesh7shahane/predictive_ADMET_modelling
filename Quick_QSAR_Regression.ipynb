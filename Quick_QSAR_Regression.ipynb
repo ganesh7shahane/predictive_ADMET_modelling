{
 "cells": [
  {
   "cell_type": "markdown",
   "metadata": {},
   "source": [
    "# QSAR modelling in as little lines of code as possible\n",
    "\n",
    "We often come across ADME or activity datasets and then wish to quickly check how easy or hard it will be for predictive modelling. Recently I came across the package ```MolPipeline``` which integrates ```rdkit``` and ```scikit-learn``` and makes the task of modelling much easier.\n",
    "\n",
    "I can standardize the dataset, change the features, the ML model to be used, etc by changing a few words."
   ]
  },
  {
   "cell_type": "code",
   "execution_count": 65,
   "metadata": {},
   "outputs": [],
   "source": [
    "from molpipeline import Pipeline\n",
    "from molpipeline.any2mol import AutoToMol\n",
    "from molpipeline.mol2any import MolToMorganFP, MolToRDKitPhysChem\n",
    "from molpipeline.mol2mol import (\n",
    "    ElementFilter,\n",
    "    SaltRemover,\n",
    ")\n",
    "\n",
    "from sklearn.ensemble import RandomForestRegressor\n",
    "from sklearn.model_selection import train_test_split\n",
    "from sklearn.metrics import mean_squared_error, r2_score\n",
    "from yellowbrick.regressor import prediction_error, residuals_plot\n",
    "\n",
    "import pandas as pd"
   ]
  },
  {
   "cell_type": "markdown",
   "metadata": {},
   "source": [
    "## Import and view dataset:"
   ]
  },
  {
   "cell_type": "code",
   "execution_count": 66,
   "metadata": {},
   "outputs": [],
   "source": [
    "# import data\n",
    "ic50 = pd.read_csv(\"data/pi3k-mtor-pIC50.csv\")"
   ]
  },
  {
   "cell_type": "code",
   "execution_count": 67,
   "metadata": {},
   "outputs": [
    {
     "name": "stdout",
     "output_type": "stream",
     "text": [
      "There are 499 molecules in this dataset\n"
     ]
    },
    {
     "data": {
      "text/html": [
       "<div>\n",
       "<style scoped>\n",
       "    .dataframe tbody tr th:only-of-type {\n",
       "        vertical-align: middle;\n",
       "    }\n",
       "\n",
       "    .dataframe tbody tr th {\n",
       "        vertical-align: top;\n",
       "    }\n",
       "\n",
       "    .dataframe thead th {\n",
       "        text-align: right;\n",
       "    }\n",
       "</style>\n",
       "<table border=\"1\" class=\"dataframe\">\n",
       "  <thead>\n",
       "    <tr style=\"text-align: right;\">\n",
       "      <th></th>\n",
       "      <th>SMILES</th>\n",
       "      <th>pKi_IC50_Pi3K</th>\n",
       "      <th>pKi_IC50_mTor</th>\n",
       "      <th>Water Solubility</th>\n",
       "      <th>Caco2 permeability</th>\n",
       "      <th>CYP1A2 inhibitor</th>\n",
       "      <th>CYP3A4 inhibitor</th>\n",
       "      <th>Total Clearance</th>\n",
       "    </tr>\n",
       "  </thead>\n",
       "  <tbody>\n",
       "    <tr>\n",
       "      <th>0</th>\n",
       "      <td>Cc1ncnc(-c2ccc(cc2)C(=O)N2CCN3CCCCC3C2)c1C#Cc1...</td>\n",
       "      <td>7.091515</td>\n",
       "      <td>7.769551</td>\n",
       "      <td>-3.540</td>\n",
       "      <td>1.377</td>\n",
       "      <td>0.0</td>\n",
       "      <td>1.0</td>\n",
       "      <td>NaN</td>\n",
       "    </tr>\n",
       "    <tr>\n",
       "      <th>1</th>\n",
       "      <td>Cc1ncnc(-c2ccc(cc2)C(C)(C)C#N)c1C#Cc1ccc(N)nc1</td>\n",
       "      <td>7.619789</td>\n",
       "      <td>7.619789</td>\n",
       "      <td>-3.864</td>\n",
       "      <td>1.302</td>\n",
       "      <td>1.0</td>\n",
       "      <td>1.0</td>\n",
       "      <td>0.798</td>\n",
       "    </tr>\n",
       "    <tr>\n",
       "      <th>2</th>\n",
       "      <td>Cc1ncnc(-c2ccc(cc2)S(C)(=O)=O)c1C#Cc1ccc(N)nc1</td>\n",
       "      <td>7.187087</td>\n",
       "      <td>8.096910</td>\n",
       "      <td>-3.535</td>\n",
       "      <td>0.274</td>\n",
       "      <td>1.0</td>\n",
       "      <td>1.0</td>\n",
       "      <td>0.899</td>\n",
       "    </tr>\n",
       "  </tbody>\n",
       "</table>\n",
       "</div>"
      ],
      "text/plain": [
       "                                              SMILES  pKi_IC50_Pi3K  \\\n",
       "0  Cc1ncnc(-c2ccc(cc2)C(=O)N2CCN3CCCCC3C2)c1C#Cc1...       7.091515   \n",
       "1     Cc1ncnc(-c2ccc(cc2)C(C)(C)C#N)c1C#Cc1ccc(N)nc1       7.619789   \n",
       "2     Cc1ncnc(-c2ccc(cc2)S(C)(=O)=O)c1C#Cc1ccc(N)nc1       7.187087   \n",
       "\n",
       "   pKi_IC50_mTor  Water Solubility  Caco2 permeability  CYP1A2 inhibitor  \\\n",
       "0       7.769551            -3.540               1.377               0.0   \n",
       "1       7.619789            -3.864               1.302               1.0   \n",
       "2       8.096910            -3.535               0.274               1.0   \n",
       "\n",
       "   CYP3A4 inhibitor  Total Clearance  \n",
       "0               1.0              NaN  \n",
       "1               1.0            0.798  \n",
       "2               1.0            0.899  "
      ]
     },
     "execution_count": 67,
     "metadata": {},
     "output_type": "execute_result"
    }
   ],
   "source": [
    "#remove molecules with no pIC50:\n",
    "ic50 = ic50[ic50.pKi_IC50_Pi3K.notnull()]\n",
    "\n",
    "print(f\"There are {ic50.shape[0]} molecules in this dataset\")\n",
    "ic50.head(3)"
   ]
  },
  {
   "cell_type": "markdown",
   "metadata": {},
   "source": [
    "## Modelling Regression Using Fingerprints"
   ]
  },
  {
   "cell_type": "code",
   "execution_count": 68,
   "metadata": {},
   "outputs": [
    {
     "name": "stdout",
     "output_type": "stream",
     "text": [
      "MSE: 0.107780511001756 and r2 score: 0.45932926665976004\n"
     ]
    }
   ],
   "source": [
    "# set up pipeline\n",
    "pipeline = Pipeline([\n",
    "      (\"auto2mol\", AutoToMol()),                                     # reading molecules\n",
    "      (\"element_filter\", ElementFilter()),                           # standardization\n",
    "      (\"salt_remover\", SaltRemover()),                               # standardization\n",
    "      (\"morgan2_2048\", MolToMorganFP(n_bits=2048, radius=2)),        # fingerprints and featurization\n",
    "      (\"RandomForestRegressor\", RandomForestRegressor())             # machine learning model\n",
    "    ],\n",
    "    n_jobs=4)\n",
    "\n",
    "#Train-test split\n",
    "train, test = train_test_split(ic50, test_size=0.1)\n",
    "\n",
    "# fit the pipeline\n",
    "pipeline.fit(X=train.SMILES, y=train['pKi_IC50_Pi3K'])\n",
    "\n",
    "# make predictions on test set:\n",
    "y_pred = pipeline.predict(test.SMILES)\n",
    "\n",
    "mse = mean_squared_error(test['pKi_IC50_Pi3K'], y_pred)\n",
    "r2 = r2_score(test['pKi_IC50_Pi3K'], y_pred)\n",
    "print(f\"MSE: {mse} and r2 score: {r2}\")"
   ]
  },
  {
   "cell_type": "markdown",
   "metadata": {},
   "source": [
    "## Modelling Regression Using Phys-Chem Descriptors"
   ]
  },
  {
   "cell_type": "code",
   "execution_count": 69,
   "metadata": {},
   "outputs": [
    {
     "name": "stdout",
     "output_type": "stream",
     "text": [
      "MSE: 0.0932056314514693 and r2 score: 0.5610782375000752\n"
     ]
    }
   ],
   "source": [
    "# set up pipeline\n",
    "pipeline_2 = Pipeline([\n",
    "      (\"auto2mol\", AutoToMol()),                                     # reading molecules\n",
    "      (\"element_filter\", ElementFilter()),                           # standardization\n",
    "      (\"salt_remover\", SaltRemover()),                               # standardization\n",
    "      (\"physchem\", MolToRDKitPhysChem()),                        # phys-chem descriptors and featurization\n",
    "      (\"RandomForestRegressor\", RandomForestRegressor())             # machine learning model\n",
    "    ],\n",
    "    n_jobs=4)\n",
    "\n",
    "#Train-test split\n",
    "train, test = train_test_split(ic50, test_size=0.1)\n",
    "\n",
    "# fit the pipeline\n",
    "pipeline_2.fit(X=train.SMILES, y=train['pKi_IC50_Pi3K'])\n",
    "\n",
    "# make predictions on test set:\n",
    "y_pred = pipeline_2.predict(test.SMILES)\n",
    "\n",
    "mse = mean_squared_error(test['pKi_IC50_Pi3K'], y_pred)\n",
    "r2 = r2_score(test['pKi_IC50_Pi3K'], y_pred)\n",
    "print(f\"MSE: {mse} and r2 score: {r2}\")"
   ]
  },
  {
   "cell_type": "code",
   "execution_count": null,
   "metadata": {},
   "outputs": [],
   "source": []
  }
 ],
 "metadata": {
  "kernelspec": {
   "display_name": "rdkit310",
   "language": "python",
   "name": "python3"
  },
  "language_info": {
   "codemirror_mode": {
    "name": "ipython",
    "version": 3
   },
   "file_extension": ".py",
   "mimetype": "text/x-python",
   "name": "python",
   "nbconvert_exporter": "python",
   "pygments_lexer": "ipython3",
   "version": "3.10.0"
  }
 },
 "nbformat": 4,
 "nbformat_minor": 2
}
