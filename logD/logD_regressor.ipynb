{
 "cells": [
  {
   "cell_type": "markdown",
   "metadata": {},
   "source": [
    "# Predicting lipophilicity with a LogD regressor\n",
    "\n",
    "The data for training this model was taken from deep-pk server: https://biosig.lab.uq.edu.au/deeppk/data, which has logD values for compounds at pH 7.4. Most orally administered drugs have a logD between 1 and 3.\n",
    "\n",
    "Get all necessary libraries first:"
   ]
  },
  {
   "cell_type": "code",
   "execution_count": 1,
   "metadata": {},
   "outputs": [
    {
     "name": "stderr",
     "output_type": "stream",
     "text": [
      "Failed to find the pandas get_adjustment() function to patch\n",
      "Failed to patch pandas - PandasTools will have limited functionality\n"
     ]
    },
    {
     "name": "stdout",
     "output_type": "stream",
     "text": [
      "I am RDKit version: 2023.09.5\n",
      "I am python version 3.10.0 (default, Feb 27 2024, 12:29:18) [Clang 15.0.0 (clang-1500.1.0.2.5)]\n"
     ]
    }
   ],
   "source": [
    "from rdkit import Chem\n",
    "from rdkit.Chem import AllChem, rdmolops, Draw, Descriptors, rdDepictor, PandasTools, rdMolDescriptors as rdmd;\n",
    "import pandas as pd\n",
    "import numpy as np\n",
    "import matplotlib.pyplot as plt\n",
    "import seaborn as sns\n",
    "\n",
    "import rdkit\n",
    "print(f\"I am RDKit version: {rdkit.__version__}\")\n",
    "import sys\n",
    "print(f\"I am python version {sys.version}\")"
   ]
  },
  {
   "cell_type": "markdown",
   "metadata": {},
   "source": [
    "# Import and check the data"
   ]
  },
  {
   "cell_type": "code",
   "execution_count": 2,
   "metadata": {},
   "outputs": [
    {
     "name": "stdout",
     "output_type": "stream",
     "text": [
      "The dataset contains 10629 endpoints on LogD\n"
     ]
    },
    {
     "data": {
      "text/html": [
       "<div>\n",
       "<style scoped>\n",
       "    .dataframe tbody tr th:only-of-type {\n",
       "        vertical-align: middle;\n",
       "    }\n",
       "\n",
       "    .dataframe tbody tr th {\n",
       "        vertical-align: top;\n",
       "    }\n",
       "\n",
       "    .dataframe thead th {\n",
       "        text-align: right;\n",
       "    }\n",
       "</style>\n",
       "<table border=\"1\" class=\"dataframe\">\n",
       "  <thead>\n",
       "    <tr style=\"text-align: right;\">\n",
       "      <th></th>\n",
       "      <th>smiles_standarized</th>\n",
       "      <th>label</th>\n",
       "      <th>group</th>\n",
       "    </tr>\n",
       "  </thead>\n",
       "  <tbody>\n",
       "    <tr>\n",
       "      <th>0</th>\n",
       "      <td>O=C(Nc1cnn(Cc2ccccc2)c1)c1[nH]nc2c1CCC1(CC1)C2</td>\n",
       "      <td>3.9</td>\n",
       "      <td>test</td>\n",
       "    </tr>\n",
       "    <tr>\n",
       "      <th>1</th>\n",
       "      <td>Cc1ccc(C)c2c(=O)c3c([nH]c12)CCCC3</td>\n",
       "      <td>2.6</td>\n",
       "      <td>test</td>\n",
       "    </tr>\n",
       "    <tr>\n",
       "      <th>2</th>\n",
       "      <td>O=c1ncn(Cc2ccc(F)cc2F)c2cc(F)c(Oc3ncccc3C(F)(F...</td>\n",
       "      <td>3.9</td>\n",
       "      <td>test</td>\n",
       "    </tr>\n",
       "  </tbody>\n",
       "</table>\n",
       "</div>"
      ],
      "text/plain": [
       "                                  smiles_standarized  label group\n",
       "0     O=C(Nc1cnn(Cc2ccccc2)c1)c1[nH]nc2c1CCC1(CC1)C2    3.9  test\n",
       "1                  Cc1ccc(C)c2c(=O)c3c([nH]c12)CCCC3    2.6  test\n",
       "2  O=c1ncn(Cc2ccc(F)cc2F)c2cc(F)c(Oc3ncccc3C(F)(F...    3.9  test"
      ]
     },
     "execution_count": 2,
     "metadata": {},
     "output_type": "execute_result"
    }
   ],
   "source": [
    "logd = pd.read_csv(\"../data/logD.csv\")\n",
    "print(f\"The dataset contains {logd.shape[0]} endpoints on LogD\")\n",
    "logd.head(3)"
   ]
  },
  {
   "cell_type": "markdown",
   "metadata": {},
   "source": [
    "The dataset already contains standardized SMILES and hence we won't perform any of those operations."
   ]
  },
  {
   "cell_type": "code",
   "execution_count": 3,
   "metadata": {},
   "outputs": [],
   "source": [
    "# Let's rename the columns to something simple:\n",
    "\n",
    "logd = logd.rename(columns={\"smiles_standarized\": \"smiles\", \"label\": \"logD\"})"
   ]
  },
  {
   "cell_type": "code",
   "execution_count": 4,
   "metadata": {},
   "outputs": [
    {
     "data": {
      "text/plain": [
       "<Axes: xlabel='logD', ylabel='Count'>"
      ]
     },
     "execution_count": 4,
     "metadata": {},
     "output_type": "execute_result"
    },
    {
     "data": {
      "image/png": "[encoded data removed]",
      "text/plain": [
       "<Figure size 640x480 with 1 Axes>"
      ]
     },
     "metadata": {},
     "output_type": "display_data"
    }
   ],
   "source": [
    "# Let's check the overall distribution:\n",
    "\n",
    "sns.histplot(logd.logD)"
   ]
  },
  {
   "cell_type": "markdown",
   "metadata": {},
   "source": [
    "Overall, the logD values span over a range of -3 to 7, with most being between -1 and 5, which is reflective of most drugs and drug-like small molecules"
   ]
  },
  {
   "cell_type": "markdown",
   "metadata": {},
   "source": [
    "# Compute phys-chem descriptors"
   ]
  },
  {
   "cell_type": "code",
   "execution_count": 5,
   "metadata": {},
   "outputs": [],
   "source": [
    "import datamol as dm\n",
    "\n",
    "# Instantiate a descriptor calculator\n",
    "from molfeat.trans import MoleculeTransformer\n",
    "from molfeat.calc import RDKitDescriptors2D\n",
    "\n",
    "desc = RDKitDescriptors2D(replace_nan = True)\n",
    "\n",
    "# Instantiate a molecule transfomer. This object takes a list of SMILES as input and returns descriptors.\n",
    "featurizer = MoleculeTransformer(desc, dtype=np.float32)\n",
    "\n",
    "with dm.without_rdkit_log():\n",
    "    feats = featurizer(logd.smiles.values)"
   ]
  },
  {
   "cell_type": "code",
   "execution_count": 6,
   "metadata": {},
   "outputs": [
    {
     "data": {
      "text/html": [
       "<div>\n",
       "<style scoped>\n",
       "    .dataframe tbody tr th:only-of-type {\n",
       "        vertical-align: middle;\n",
       "    }\n",
       "\n",
       "    .dataframe tbody tr th {\n",
       "        vertical-align: top;\n",
       "    }\n",
       "\n",
       "    .dataframe thead th {\n",
       "        text-align: right;\n",
       "    }\n",
       "</style>\n",
       "<table border=\"1\" class=\"dataframe\">\n",
       "  <thead>\n",
       "    <tr style=\"text-align: right;\">\n",
       "      <th></th>\n",
       "      <th>0</th>\n",
       "      <th>1</th>\n",
       "      <th>2</th>\n",
       "      <th>3</th>\n",
       "      <th>4</th>\n",
       "      <th>5</th>\n",
       "      <th>6</th>\n",
       "      <th>7</th>\n",
       "      <th>8</th>\n",
       "      <th>9</th>\n",
       "      <th>...</th>\n",
       "      <th>206</th>\n",
       "      <th>207</th>\n",
       "      <th>208</th>\n",
       "      <th>209</th>\n",
       "      <th>210</th>\n",
       "      <th>211</th>\n",
       "      <th>212</th>\n",
       "      <th>213</th>\n",
       "      <th>214</th>\n",
       "      <th>215</th>\n",
       "    </tr>\n",
       "  </thead>\n",
       "  <tbody>\n",
       "    <tr>\n",
       "      <th>0</th>\n",
       "      <td>12.672311</td>\n",
       "      <td>12.672311</td>\n",
       "      <td>0.134483</td>\n",
       "      <td>-0.134483</td>\n",
       "      <td>0.760999</td>\n",
       "      <td>17.076923</td>\n",
       "      <td>347.421997</td>\n",
       "      <td>326.253998</td>\n",
       "      <td>347.174622</td>\n",
       "      <td>132.0</td>\n",
       "      <td>...</td>\n",
       "      <td>0.0</td>\n",
       "      <td>0.0</td>\n",
       "      <td>0.0</td>\n",
       "      <td>0.0</td>\n",
       "      <td>0.0</td>\n",
       "      <td>0.0</td>\n",
       "      <td>0.0</td>\n",
       "      <td>1.0</td>\n",
       "      <td>1.0</td>\n",
       "      <td>0.0</td>\n",
       "    </tr>\n",
       "    <tr>\n",
       "      <th>1</th>\n",
       "      <td>12.526157</td>\n",
       "      <td>12.526157</td>\n",
       "      <td>0.258935</td>\n",
       "      <td>0.258935</td>\n",
       "      <td>0.736937</td>\n",
       "      <td>14.941176</td>\n",
       "      <td>227.307007</td>\n",
       "      <td>210.171005</td>\n",
       "      <td>227.131012</td>\n",
       "      <td>88.0</td>\n",
       "      <td>...</td>\n",
       "      <td>0.0</td>\n",
       "      <td>0.0</td>\n",
       "      <td>0.0</td>\n",
       "      <td>0.0</td>\n",
       "      <td>0.0</td>\n",
       "      <td>0.0</td>\n",
       "      <td>0.0</td>\n",
       "      <td>0.0</td>\n",
       "      <td>0.0</td>\n",
       "      <td>0.0</td>\n",
       "    </tr>\n",
       "    <tr>\n",
       "      <th>2</th>\n",
       "      <td>14.722711</td>\n",
       "      <td>14.722711</td>\n",
       "      <td>0.017925</td>\n",
       "      <td>-4.801170</td>\n",
       "      <td>0.406941</td>\n",
       "      <td>11.687500</td>\n",
       "      <td>451.325989</td>\n",
       "      <td>440.238007</td>\n",
       "      <td>451.075531</td>\n",
       "      <td>164.0</td>\n",
       "      <td>...</td>\n",
       "      <td>0.0</td>\n",
       "      <td>0.0</td>\n",
       "      <td>0.0</td>\n",
       "      <td>0.0</td>\n",
       "      <td>0.0</td>\n",
       "      <td>0.0</td>\n",
       "      <td>0.0</td>\n",
       "      <td>0.0</td>\n",
       "      <td>0.0</td>\n",
       "      <td>1.0</td>\n",
       "    </tr>\n",
       "  </tbody>\n",
       "</table>\n",
       "<p>3 rows × 216 columns</p>\n",
       "</div>"
      ],
      "text/plain": [
       "         0          1         2         3         4          5           6    \\\n",
       "0  12.672311  12.672311  0.134483 -0.134483  0.760999  17.076923  347.421997   \n",
       "1  12.526157  12.526157  0.258935  0.258935  0.736937  14.941176  227.307007   \n",
       "2  14.722711  14.722711  0.017925 -4.801170  0.406941  11.687500  451.325989   \n",
       "\n",
       "          7           8      9    ...  206  207  208  209  210  211  212  213  \\\n",
       "0  326.253998  347.174622  132.0  ...  0.0  0.0  0.0  0.0  0.0  0.0  0.0  1.0   \n",
       "1  210.171005  227.131012   88.0  ...  0.0  0.0  0.0  0.0  0.0  0.0  0.0  0.0   \n",
       "2  440.238007  451.075531  164.0  ...  0.0  0.0  0.0  0.0  0.0  0.0  0.0  0.0   \n",
       "\n",
       "   214  215  \n",
       "0  1.0  0.0  \n",
       "1  0.0  0.0  \n",
       "2  0.0  1.0  \n",
       "\n",
       "[3 rows x 216 columns]"
      ]
     },
     "execution_count": 6,
     "metadata": {},
     "output_type": "execute_result"
    }
   ],
   "source": [
    "# A total of 216 2D descriptors are computed:\n",
    "pd.DataFrame(feats).head(3)"
   ]
  },
  {
   "cell_type": "markdown",
   "metadata": {},
   "source": [
    "## We normalize the features between 0 and 1"
   ]
  },
  {
   "cell_type": "code",
   "execution_count": 7,
   "metadata": {},
   "outputs": [
    {
     "name": "stdout",
     "output_type": "stream",
     "text": [
      "Normalized Data (MinMaxScaler):\n"
     ]
    },
    {
     "data": {
      "text/html": [
       "<div>\n",
       "<style scoped>\n",
       "    .dataframe tbody tr th:only-of-type {\n",
       "        vertical-align: middle;\n",
       "    }\n",
       "\n",
       "    .dataframe tbody tr th {\n",
       "        vertical-align: top;\n",
       "    }\n",
       "\n",
       "    .dataframe thead th {\n",
       "        text-align: right;\n",
       "    }\n",
       "</style>\n",
       "<table border=\"1\" class=\"dataframe\">\n",
       "  <thead>\n",
       "    <tr style=\"text-align: right;\">\n",
       "      <th></th>\n",
       "      <th>0</th>\n",
       "      <th>1</th>\n",
       "      <th>2</th>\n",
       "      <th>3</th>\n",
       "      <th>4</th>\n",
       "      <th>5</th>\n",
       "      <th>6</th>\n",
       "      <th>7</th>\n",
       "      <th>8</th>\n",
       "      <th>9</th>\n",
       "      <th>...</th>\n",
       "      <th>206</th>\n",
       "      <th>207</th>\n",
       "      <th>208</th>\n",
       "      <th>209</th>\n",
       "      <th>210</th>\n",
       "      <th>211</th>\n",
       "      <th>212</th>\n",
       "      <th>213</th>\n",
       "      <th>214</th>\n",
       "      <th>215</th>\n",
       "    </tr>\n",
       "  </thead>\n",
       "  <tbody>\n",
       "    <tr>\n",
       "      <th>0</th>\n",
       "      <td>0.694777</td>\n",
       "      <td>0.694777</td>\n",
       "      <td>0.067236</td>\n",
       "      <td>0.819384</td>\n",
       "      <td>0.800096</td>\n",
       "      <td>0.169816</td>\n",
       "      <td>0.374168</td>\n",
       "      <td>0.379783</td>\n",
       "      <td>0.374137</td>\n",
       "      <td>0.353535</td>\n",
       "      <td>...</td>\n",
       "      <td>0.0</td>\n",
       "      <td>0.0</td>\n",
       "      <td>0.0</td>\n",
       "      <td>0.0</td>\n",
       "      <td>0.0</td>\n",
       "      <td>0.0</td>\n",
       "      <td>0.0</td>\n",
       "      <td>0.142857</td>\n",
       "      <td>0.5</td>\n",
       "      <td>0.000000</td>\n",
       "    </tr>\n",
       "    <tr>\n",
       "      <th>1</th>\n",
       "      <td>0.685263</td>\n",
       "      <td>0.685263</td>\n",
       "      <td>0.129462</td>\n",
       "      <td>0.852674</td>\n",
       "      <td>0.774209</td>\n",
       "      <td>0.132337</td>\n",
       "      <td>0.210963</td>\n",
       "      <td>0.211650</td>\n",
       "      <td>0.210917</td>\n",
       "      <td>0.205387</td>\n",
       "      <td>...</td>\n",
       "      <td>0.0</td>\n",
       "      <td>0.0</td>\n",
       "      <td>0.0</td>\n",
       "      <td>0.0</td>\n",
       "      <td>0.0</td>\n",
       "      <td>0.0</td>\n",
       "      <td>0.0</td>\n",
       "      <td>0.000000</td>\n",
       "      <td>0.0</td>\n",
       "      <td>0.000000</td>\n",
       "    </tr>\n",
       "    <tr>\n",
       "      <th>2</th>\n",
       "      <td>0.828260</td>\n",
       "      <td>0.828260</td>\n",
       "      <td>0.008956</td>\n",
       "      <td>0.424496</td>\n",
       "      <td>0.419182</td>\n",
       "      <td>0.075240</td>\n",
       "      <td>0.515347</td>\n",
       "      <td>0.544876</td>\n",
       "      <td>0.515409</td>\n",
       "      <td>0.461279</td>\n",
       "      <td>...</td>\n",
       "      <td>0.0</td>\n",
       "      <td>0.0</td>\n",
       "      <td>0.0</td>\n",
       "      <td>0.0</td>\n",
       "      <td>0.0</td>\n",
       "      <td>0.0</td>\n",
       "      <td>0.0</td>\n",
       "      <td>0.000000</td>\n",
       "      <td>0.0</td>\n",
       "      <td>0.166667</td>\n",
       "    </tr>\n",
       "  </tbody>\n",
       "</table>\n",
       "<p>3 rows × 216 columns</p>\n",
       "</div>"
      ],
      "text/plain": [
       "        0         1         2         3         4         5         6    \\\n",
       "0  0.694777  0.694777  0.067236  0.819384  0.800096  0.169816  0.374168   \n",
       "1  0.685263  0.685263  0.129462  0.852674  0.774209  0.132337  0.210963   \n",
       "2  0.828260  0.828260  0.008956  0.424496  0.419182  0.075240  0.515347   \n",
       "\n",
       "        7         8         9    ...  206  207  208  209  210  211  212  \\\n",
       "0  0.379783  0.374137  0.353535  ...  0.0  0.0  0.0  0.0  0.0  0.0  0.0   \n",
       "1  0.211650  0.210917  0.205387  ...  0.0  0.0  0.0  0.0  0.0  0.0  0.0   \n",
       "2  0.544876  0.515409  0.461279  ...  0.0  0.0  0.0  0.0  0.0  0.0  0.0   \n",
       "\n",
       "        213  214       215  \n",
       "0  0.142857  0.5  0.000000  \n",
       "1  0.000000  0.0  0.000000  \n",
       "2  0.000000  0.0  0.166667  \n",
       "\n",
       "[3 rows x 216 columns]"
      ]
     },
     "execution_count": 7,
     "metadata": {},
     "output_type": "execute_result"
    }
   ],
   "source": [
    "from sklearn.preprocessing import StandardScaler, MinMaxScaler\n",
    "\n",
    "# Initialize\n",
    "scaler = MinMaxScaler()\n",
    "\n",
    "# Fit and transform the data\n",
    "X_normalized = scaler.fit_transform(feats)\n",
    "\n",
    "# Print the first few rows of the normalized data\n",
    "print(\"Normalized Data (MinMaxScaler):\")\n",
    "\n",
    "X_normalized_df = pd.DataFrame(X_normalized)\n",
    "\n",
    "X_normalized_df.head(3)"
   ]
  },
  {
   "cell_type": "markdown",
   "metadata": {},
   "source": [
    "## Now we drop features that are highly correlated"
   ]
  },
  {
   "cell_type": "code",
   "execution_count": 8,
   "metadata": {},
   "outputs": [
    {
     "data": {
      "text/html": [
       "<div>\n",
       "<style scoped>\n",
       "    .dataframe tbody tr th:only-of-type {\n",
       "        vertical-align: middle;\n",
       "    }\n",
       "\n",
       "    .dataframe tbody tr th {\n",
       "        vertical-align: top;\n",
       "    }\n",
       "\n",
       "    .dataframe thead th {\n",
       "        text-align: right;\n",
       "    }\n",
       "</style>\n",
       "<table border=\"1\" class=\"dataframe\">\n",
       "  <thead>\n",
       "    <tr style=\"text-align: right;\">\n",
       "      <th></th>\n",
       "      <th>0</th>\n",
       "      <th>2</th>\n",
       "      <th>3</th>\n",
       "      <th>4</th>\n",
       "      <th>5</th>\n",
       "      <th>6</th>\n",
       "      <th>10</th>\n",
       "      <th>11</th>\n",
       "      <th>12</th>\n",
       "      <th>15</th>\n",
       "      <th>...</th>\n",
       "      <th>205</th>\n",
       "      <th>206</th>\n",
       "      <th>207</th>\n",
       "      <th>208</th>\n",
       "      <th>209</th>\n",
       "      <th>210</th>\n",
       "      <th>211</th>\n",
       "      <th>212</th>\n",
       "      <th>214</th>\n",
       "      <th>215</th>\n",
       "    </tr>\n",
       "  </thead>\n",
       "  <tbody>\n",
       "    <tr>\n",
       "      <th>0</th>\n",
       "      <td>0.694777</td>\n",
       "      <td>0.067236</td>\n",
       "      <td>0.819384</td>\n",
       "      <td>0.800096</td>\n",
       "      <td>0.169816</td>\n",
       "      <td>0.374168</td>\n",
       "      <td>0.0</td>\n",
       "      <td>0.403575</td>\n",
       "      <td>0.671780</td>\n",
       "      <td>0.55335</td>\n",
       "      <td>...</td>\n",
       "      <td>0.0</td>\n",
       "      <td>0.0</td>\n",
       "      <td>0.0</td>\n",
       "      <td>0.0</td>\n",
       "      <td>0.0</td>\n",
       "      <td>0.0</td>\n",
       "      <td>0.0</td>\n",
       "      <td>0.0</td>\n",
       "      <td>0.5</td>\n",
       "      <td>0.000000</td>\n",
       "    </tr>\n",
       "    <tr>\n",
       "      <th>1</th>\n",
       "      <td>0.685263</td>\n",
       "      <td>0.129462</td>\n",
       "      <td>0.852674</td>\n",
       "      <td>0.774209</td>\n",
       "      <td>0.132337</td>\n",
       "      <td>0.210963</td>\n",
       "      <td>0.0</td>\n",
       "      <td>0.248972</td>\n",
       "      <td>0.623573</td>\n",
       "      <td>0.45351</td>\n",
       "      <td>...</td>\n",
       "      <td>0.0</td>\n",
       "      <td>0.0</td>\n",
       "      <td>0.0</td>\n",
       "      <td>0.0</td>\n",
       "      <td>0.0</td>\n",
       "      <td>0.0</td>\n",
       "      <td>0.0</td>\n",
       "      <td>0.0</td>\n",
       "      <td>0.0</td>\n",
       "      <td>0.000000</td>\n",
       "    </tr>\n",
       "    <tr>\n",
       "      <th>2</th>\n",
       "      <td>0.828260</td>\n",
       "      <td>0.008956</td>\n",
       "      <td>0.424496</td>\n",
       "      <td>0.419182</td>\n",
       "      <td>0.075240</td>\n",
       "      <td>0.515347</td>\n",
       "      <td>0.0</td>\n",
       "      <td>0.685436</td>\n",
       "      <td>0.529612</td>\n",
       "      <td>0.40121</td>\n",
       "      <td>...</td>\n",
       "      <td>0.0</td>\n",
       "      <td>0.0</td>\n",
       "      <td>0.0</td>\n",
       "      <td>0.0</td>\n",
       "      <td>0.0</td>\n",
       "      <td>0.0</td>\n",
       "      <td>0.0</td>\n",
       "      <td>0.0</td>\n",
       "      <td>0.0</td>\n",
       "      <td>0.166667</td>\n",
       "    </tr>\n",
       "  </tbody>\n",
       "</table>\n",
       "<p>3 rows × 177 columns</p>\n",
       "</div>"
      ],
      "text/plain": [
       "        0         2         3         4         5         6    10        11   \\\n",
       "0  0.694777  0.067236  0.819384  0.800096  0.169816  0.374168  0.0  0.403575   \n",
       "1  0.685263  0.129462  0.852674  0.774209  0.132337  0.210963  0.0  0.248972   \n",
       "2  0.828260  0.008956  0.424496  0.419182  0.075240  0.515347  0.0  0.685436   \n",
       "\n",
       "        12       15   ...  205  206  207  208  209  210  211  212  214  \\\n",
       "0  0.671780  0.55335  ...  0.0  0.0  0.0  0.0  0.0  0.0  0.0  0.0  0.5   \n",
       "1  0.623573  0.45351  ...  0.0  0.0  0.0  0.0  0.0  0.0  0.0  0.0  0.0   \n",
       "2  0.529612  0.40121  ...  0.0  0.0  0.0  0.0  0.0  0.0  0.0  0.0  0.0   \n",
       "\n",
       "        215  \n",
       "0  0.000000  \n",
       "1  0.000000  \n",
       "2  0.166667  \n",
       "\n",
       "[3 rows x 177 columns]"
      ]
     },
     "execution_count": 8,
     "metadata": {},
     "output_type": "execute_result"
    }
   ],
   "source": [
    "from feature_engine.selection import DropCorrelatedFeatures\n",
    "\n",
    "dcf = DropCorrelatedFeatures(threshold=0.9) # One can play with the threshold here:\n",
    "\n",
    "corr_removed = dcf.fit_transform(X_normalized_df)\n",
    "\n",
    "corr_removed.head(3)\n"
   ]
  },
  {
   "cell_type": "code",
   "execution_count": 24,
   "metadata": {},
   "outputs": [],
   "source": [
    "# logd_refined = pd.concat([logd, corr_removed], axis=1)\n",
    "# logd_refined.shape\n",
    "# logd_refined.to_csv(\"../data/logD_normalizedDescriptors.csv\")"
   ]
  },
  {
   "cell_type": "markdown",
   "metadata": {},
   "source": [
    "## Test-train splitting and model building"
   ]
  },
  {
   "cell_type": "code",
   "execution_count": 9,
   "metadata": {},
   "outputs": [
    {
     "data": {
      "text/plain": [
       "array([-1.49525691,  4.30778696,  3.09195337,  2.11749045,  0.58475292,\n",
       "        1.57174447,  2.72130664,  2.16757147,  2.55526206,  4.26857886])"
      ]
     },
     "execution_count": 9,
     "metadata": {},
     "output_type": "execute_result"
    }
   ],
   "source": [
    "from sklearn.model_selection import train_test_split\n",
    "from sklearn.ensemble import HistGradientBoostingRegressor\n",
    "\n",
    "X = corr_removed # put features in a dataframe called X\n",
    "y = logd.logD # put features in series y\n",
    "\n",
    "X_train, X_test, y_train, y_test = train_test_split(X, y, train_size=0.9, random_state=0)\n",
    "\n",
    "# Initiate the LightGBM regressor:\n",
    "gbm = HistGradientBoostingRegressor()\n",
    "\n",
    "# Fit the training data:\n",
    "gbm.fit(X_train, y_train)\n",
    "\n",
    "# Predict logD of the testing set:\n",
    "y_pred = gbm.predict(X_test)\n",
    "\n",
    "# Show top 10 predictions\n",
    "y_pred[:10]"
   ]
  },
  {
   "cell_type": "code",
   "execution_count": 10,
   "metadata": {},
   "outputs": [
    {
     "name": "stdout",
     "output_type": "stream",
     "text": [
      "MSE: 0.3159209638955675\n",
      "RMSE: 0.5620684690458695\n",
      "R2 score: 0.8339513834784699\n",
      "Pearson correlation coefficient: 0.9153759078743227\n"
     ]
    }
   ],
   "source": [
    "# Evaluate the model's predictions:\n",
    "\n",
    "from sklearn.metrics import mean_squared_error, root_mean_squared_error, r2_score\n",
    "from scipy.stats import pearsonr\n",
    "\n",
    "mse_gbm = mean_squared_error(y_test, y_pred)\n",
    "rmse_gbm = root_mean_squared_error(y_test, y_pred)\n",
    "r2_gbm = r2_score(y_test, y_pred)\n",
    "pearson_corr = pearsonr(y_test, y_pred)\n",
    "\n",
    "print(f\"MSE: {mse_gbm}\")\n",
    "print(f\"RMSE: {rmse_gbm}\")\n",
    "print(f\"R2 score: {r2_gbm}\")\n",
    "print(f\"Pearson correlation coefficient: {pearson_corr[0]}\")"
   ]
  },
  {
   "cell_type": "code",
   "execution_count": 11,
   "metadata": {},
   "outputs": [
    {
     "data": {
      "text/plain": [
       "<Axes: xlabel='logD'>"
      ]
     },
     "execution_count": 11,
     "metadata": {},
     "output_type": "execute_result"
    },
    {
     "data": {
      "image/png": "[encoded data removed]",
      "text/plain": [
       "<Figure size 640x480 with 1 Axes>"
      ]
     },
     "metadata": {},
     "output_type": "display_data"
    }
   ],
   "source": [
    "sns.regplot(x=y_test, y=y_pred)"
   ]
  },
  {
   "cell_type": "markdown",
   "metadata": {},
   "source": [
    "# Save model"
   ]
  },
  {
   "cell_type": "code",
   "execution_count": 12,
   "metadata": {},
   "outputs": [],
   "source": [
    "import joblib\n",
    "\n",
    "joblib.dump(gbm, '../saved_models/logD_regressor.model')\n",
    "\n",
    "# Load the saved model:\n",
    "\n",
    "load_model = joblib.load('../saved_models/logD_regressor.model')"
   ]
  },
  {
   "cell_type": "markdown",
   "metadata": {},
   "source": [
    "# Define a featurization function for carrying out predictions\n",
    "\n",
    "Before model training, we removed the highly correlated features from the training dataset. \n",
    "\n",
    "We need to make sure that the molecules whose values we wish to predict also contain the same number of feature columns. \n",
    "\n",
    "Hence we define the following function to remove those features:"
   ]
  },
  {
   "cell_type": "code",
   "execution_count": 13,
   "metadata": {},
   "outputs": [],
   "source": [
    "def featurizer_df(df_a, df_b):\n",
    "    \n",
    "    #dataframe df_a will be the one containing test molecules. It will contain more features than those in the training dataset\n",
    "    #dataframe df_b will be the one whose correlated features are removed before model training\n",
    "    \n",
    "    # Get column names from both DataFrames\n",
    "    columns_a = set(df_a.columns)\n",
    "    columns_b = set(df_b.columns)\n",
    "\n",
    "    # Identify columns in A not present in B\n",
    "    columns_to_remove = columns_a - columns_b\n",
    "    \n",
    "    # Remove those columns from DataFrame A\n",
    "    df_a.drop(columns=columns_to_remove, inplace=True)\n",
    "    \n",
    "    return df_a"
   ]
  },
  {
   "cell_type": "code",
   "execution_count": 14,
   "metadata": {},
   "outputs": [
    {
     "name": "stderr",
     "output_type": "stream",
     "text": [
      "[13:12:05] Initializing MetalDisconnector\n",
      "[13:12:05] Running MetalDisconnector\n",
      "[13:12:05] Initializing Normalizer\n",
      "[13:12:05] Running Normalizer\n",
      "[13:12:05] Initializing MetalDisconnector\n",
      "[13:12:05] Running MetalDisconnector\n",
      "[13:12:05] Initializing Normalizer\n",
      "[13:12:05] Running Normalizer\n"
     ]
    },
    {
     "data": {
      "text/plain": [
       "5.480989852147478"
      ]
     },
     "execution_count": 14,
     "metadata": {},
     "output_type": "execute_result"
    }
   ],
   "source": [
    "load_model.predict(featurizer_df(pd.DataFrame(featurizer('CC(C)C(C(=O)N1CCCC1C2=NC=C(N2)C3=CC=C(C=C3)C4=CC=C(C=C4)C5=CN=C(N5)C6CCCN6C(=O)C(C(C)C)NC(=O)OC)NC(=O)OC')), corr_removed))[0]"
   ]
  },
  {
   "cell_type": "markdown",
   "metadata": {},
   "source": [
    "# Predict logD values of smiles in a Dataframe"
   ]
  },
  {
   "cell_type": "code",
   "execution_count": 15,
   "metadata": {},
   "outputs": [
    {
     "data": {
      "text/html": [
       "<div>\n",
       "<style scoped>\n",
       "    .dataframe tbody tr th:only-of-type {\n",
       "        vertical-align: middle;\n",
       "    }\n",
       "\n",
       "    .dataframe tbody tr th {\n",
       "        vertical-align: top;\n",
       "    }\n",
       "\n",
       "    .dataframe thead th {\n",
       "        text-align: right;\n",
       "    }\n",
       "</style>\n",
       "<table border=\"1\" class=\"dataframe\">\n",
       "  <thead>\n",
       "    <tr style=\"text-align: right;\">\n",
       "      <th></th>\n",
       "      <th>ID</th>\n",
       "      <th>smiles</th>\n",
       "    </tr>\n",
       "  </thead>\n",
       "  <tbody>\n",
       "    <tr>\n",
       "      <th>0</th>\n",
       "      <td>1</td>\n",
       "      <td>c1ccccc1N</td>\n",
       "    </tr>\n",
       "    <tr>\n",
       "      <th>1</th>\n",
       "      <td>2</td>\n",
       "      <td>CCON</td>\n",
       "    </tr>\n",
       "  </tbody>\n",
       "</table>\n",
       "</div>"
      ],
      "text/plain": [
       "   ID     smiles\n",
       "0   1  c1ccccc1N\n",
       "1   2       CCON"
      ]
     },
     "execution_count": 15,
     "metadata": {},
     "output_type": "execute_result"
    }
   ],
   "source": [
    " # define a sample dataframe\n",
    "\n",
    "sample_df = pd.DataFrame({          \n",
    "    'ID':[1, 2],\n",
    "    'smiles': ['c1ccccc1N', 'CCON']\n",
    "    })\n",
    "\n",
    "sample_df"
   ]
  },
  {
   "cell_type": "code",
   "execution_count": 16,
   "metadata": {},
   "outputs": [],
   "source": [
    "# Define a function to return the predicted logD:\n",
    "\n",
    "def predict_logD(smiles):\n",
    "    \n",
    "    return load_model.predict(featurizer_df(pd.DataFrame(featurizer(smiles)), corr_removed)).item()"
   ]
  },
  {
   "cell_type": "code",
   "execution_count": 17,
   "metadata": {},
   "outputs": [
    {
     "name": "stderr",
     "output_type": "stream",
     "text": [
      "[13:12:05] Initializing MetalDisconnector\n",
      "[13:12:05] Running MetalDisconnector\n",
      "[13:12:05] Initializing Normalizer\n",
      "[13:12:05] Running Normalizer\n",
      "[13:12:05] Initializing MetalDisconnector\n",
      "[13:12:05] Running MetalDisconnector\n",
      "[13:12:05] Initializing Normalizer\n",
      "[13:12:05] Running Normalizer\n",
      "[13:12:05] Initializing MetalDisconnector\n",
      "[13:12:05] Running MetalDisconnector\n",
      "[13:12:05] Initializing Normalizer\n",
      "[13:12:05] Running Normalizer\n",
      "[13:12:05] Initializing MetalDisconnector\n",
      "[13:12:05] Running MetalDisconnector\n",
      "[13:12:05] Initializing Normalizer\n",
      "[13:12:05] Running Normalizer\n"
     ]
    }
   ],
   "source": [
    "sample_df['predicted_logD'] = sample_df['smiles'].apply(predict_logD)"
   ]
  },
  {
   "cell_type": "code",
   "execution_count": 18,
   "metadata": {},
   "outputs": [
    {
     "data": {
      "text/html": [
       "<div>\n",
       "<style scoped>\n",
       "    .dataframe tbody tr th:only-of-type {\n",
       "        vertical-align: middle;\n",
       "    }\n",
       "\n",
       "    .dataframe tbody tr th {\n",
       "        vertical-align: top;\n",
       "    }\n",
       "\n",
       "    .dataframe thead th {\n",
       "        text-align: right;\n",
       "    }\n",
       "</style>\n",
       "<table border=\"1\" class=\"dataframe\">\n",
       "  <thead>\n",
       "    <tr style=\"text-align: right;\">\n",
       "      <th></th>\n",
       "      <th>ID</th>\n",
       "      <th>smiles</th>\n",
       "      <th>predicted_logD</th>\n",
       "    </tr>\n",
       "  </thead>\n",
       "  <tbody>\n",
       "    <tr>\n",
       "      <th>0</th>\n",
       "      <td>1</td>\n",
       "      <td>c1ccccc1N</td>\n",
       "      <td>2.563452</td>\n",
       "    </tr>\n",
       "    <tr>\n",
       "      <th>1</th>\n",
       "      <td>2</td>\n",
       "      <td>CCON</td>\n",
       "      <td>-0.374662</td>\n",
       "    </tr>\n",
       "  </tbody>\n",
       "</table>\n",
       "</div>"
      ],
      "text/plain": [
       "   ID     smiles  predicted_logD\n",
       "0   1  c1ccccc1N        2.563452\n",
       "1   2       CCON       -0.374662"
      ]
     },
     "execution_count": 18,
     "metadata": {},
     "output_type": "execute_result"
    }
   ],
   "source": [
    "sample_df"
   ]
  },
  {
   "cell_type": "markdown",
   "metadata": {},
   "source": [
    "# Cross Validation"
   ]
  },
  {
   "cell_type": "code",
   "execution_count": 19,
   "metadata": {},
   "outputs": [
    {
     "name": "stdout",
     "output_type": "stream",
     "text": [
      "validation scores: [0.81011971 0.83882443 0.82249589 0.80800654 0.81596744]\n"
     ]
    },
    {
     "data": {
      "text/plain": [
       "0.8190828031091281"
      ]
     },
     "execution_count": 19,
     "metadata": {},
     "output_type": "execute_result"
    }
   ],
   "source": [
    "from sklearn.model_selection import cross_val_score\n",
    "\n",
    "val = cross_val_score(gbm, X_train, y_train,  scoring='r2', cv=5) \n",
    "\n",
    "print(f\"validation scores: {val}\")\n",
    "\n",
    "val.mean()"
   ]
  },
  {
   "cell_type": "code",
   "execution_count": null,
   "metadata": {},
   "outputs": [],
   "source": []
  }
 ],
 "metadata": {
  "kernelspec": {
   "display_name": "rdkit310",
   "language": "python",
   "name": "python3"
  },
  "language_info": {
   "codemirror_mode": {
    "name": "ipython",
    "version": 3
   },
   "file_extension": ".py",
   "mimetype": "text/x-python",
   "name": "python",
   "nbconvert_exporter": "python",
   "pygments_lexer": "ipython3",
   "version": "3.10.0"
  }
 },
 "nbformat": 4,
 "nbformat_minor": 2
}
